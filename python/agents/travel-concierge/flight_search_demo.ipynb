{
  "cells": [
    {
      "cell_type": "markdown",
      "metadata": {},
      "source": [
        "# Flight Search Agent Demo\n",
        "\n",
        "This notebook demonstrates the standalone `flight_search_agent` from the Travel Concierge sample. It loads environment variables, authenticates your Google Cloud account, and runs the agent so you can test flight search functionality."
      ]
    },
    {
      "cell_type": "code",
      "metadata": {},
      "source": [
        "# Install required packages (run once)\n",
        "# !pip install google-adk google-cloud-aiplatform google-genai python-dotenv requests\n"
      ],
      "execution_count": null,
      "outputs": []
    },
    {
      "cell_type": "code",
      "metadata": {},
      "source": [
        "import os\n",
        "from dotenv import load_dotenv\n",
        "\n",
        "# Load environment variables from .env (copy .env.example and edit it first)\n",
        "load_dotenv()\n",
        "\n",
        "project = os.getenv('GOOGLE_CLOUD_PROJECT')\n",
        "location = os.getenv('GOOGLE_CLOUD_LOCATION')\n",
        "print('Project:', project)\n",
        "print('Location:', location)\n"
      ],
      "execution_count": null,
      "outputs": []
    },
    {
      "cell_type": "code",
      "metadata": {},
      "source": [
        "# Authenticate gcloud (opens a browser for login)\n",
        "!gcloud auth application-default login --quiet\n"
      ],
      "execution_count": null,
      "outputs": []
    },
    {
      "cell_type": "code",
      "metadata": {},
      "source": [
        "from google.adk.runners import InMemoryRunner\n",
        "from google.genai.types import Part, UserContent\n",
        "from travel_concierge.sub_agents.planning.agent import flight_search_agent\n",
        "\n",
        "runner = InMemoryRunner(agent=flight_search_agent)\n",
        "session = runner.session_service.create_session(app_name=runner.app_name, user_id='test_user')\n",
        "\n",
        "query = 'Find flights from SFO to JFK on July 20 returning July 27.'\n",
        "content = UserContent(parts=[Part(text=query)])\n",
        "print('User:', query)\n",
        "for event in runner.run(user_id=session.user_id, session_id=session.id, new_message=content):\n",
        "    for part in event.content.parts:\n",
        "        if hasattr(part, 'text') and part.text:\n",
        "            print(part.text)\n"
      ],
      "execution_count": null,
      "outputs": []
    }
  ],
  "metadata": {
    "kernelspec": {
      "display_name": "Python 3",
      "language": "python",
      "name": "python3"
    },
    "language_info": {
      "name": "python",
      "pygments_lexer": "ipython3"
    }
  },
  "nbformat": 4,
  "nbformat_minor": 5
}
